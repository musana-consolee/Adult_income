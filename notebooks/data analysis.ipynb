{
 "cells": [
  {
   "cell_type": "markdown",
   "id": "8905bd35-4d57-4812-8524-0c297fbded87",
   "metadata": {},
   "source": [
    "## UCI Adult income Dataset - Exploratory and Descriptive Analysis\n",
    "\n",
    "In this notebook, we focus on **data preparation**, **cleaning**, and **preprocessing** for the **UCI Adult Income Dataset**, a popular dataset often used for classification tasks predicting whether an individual earns more or less than $50,000 annually based on demographic and work-related attributes.\n",
    "\n",
    "Good data preprocessing is crucial for reliable and interpretable results in machine learning and analytics workflows. Here, we address common data issues such as **missing values, duplicates, and inconsistent categorical labels** while creating derived features to improve downstream analysis.\n",
    "We start by importing essential Python libraries for data handling and manipulation.\n",
    "\n",
    "- `pandas` for structured data operations.\n",
    "\n",
    "- `numpy` for numerical operations.\n",
    "\n",
    "- `os` for interacting with the operating system and directory structures.\n"
   ]
  },
  {
   "cell_type": "code",
   "execution_count": null,
   "id": "33508b0e-78e5-4fcd-a0a8-adaf046b9c5f",
   "metadata": {},
   "outputs": [],
   "source": []
  },
  {
   "cell_type": "code",
   "execution_count": 43,
   "id": "9bd9f793-2f4e-4f6f-a84f-e0d69584f307",
   "metadata": {},
   "outputs": [],
   "source": [
    "import pandas as pd \n",
    "import numpy as np \n",
    "import os \n",
    "import plotly.express as px"
   ]
  },
  {
   "cell_type": "markdown",
   "id": "8076220e-14f4-4af2-87ca-8f5ede78b1a3",
   "metadata": {},
   "source": [
    "## Define and Create Directory Paths\n",
    "\n",
    "To ensure reproducibility andorganized storage, we programmatically create directories for:\n",
    "\n",
    "- **raw data**\n",
    "- **processed data**\n",
    "- **results**\n",
    "- **documentation**\n",
    "\n",
    "These directories will store intermediate and final outputs for reproducibility.\n",
    "\n",
    "\n"
   ]
  },
  {
   "cell_type": "markdown",
   "id": "fb185c5b-64a3-4821-b37f-e3d7eead2483",
   "metadata": {},
   "source": [
    "## Define and Create paths"
   ]
  },
  {
   "cell_type": "code",
   "execution_count": 47,
   "id": "e77d24dd-b0c1-45f4-a187-3b221ef69dfe",
   "metadata": {},
   "outputs": [],
   "source": [
    "# Get working directory \n",
    "current_dir = os.getcwd()\n",
    "\n",
    "# Go one directory up to the root directory \n",
    "project_root_dir = os.path.dirname(current_dir)\n",
    "\n",
    "data_dir = os.path.join(project_root_dir, 'data')\n",
    "raw_dir = os.path.join(data_dir,'raw')\n",
    "processed_dir = os.path.join(data_dir,'processed')\n",
    "\n",
    "# Define paths to results folder \n",
    "results_dir = os.path.join(project_root_dir,'results')\n",
    "\n",
    "# Define paths to docs folder \n",
    "docs_dir = os.path.join(project_root_dir,'docs') \n",
    "\n",
    "#Create directories if they do not exist \n",
    "os.makedirs(raw_dir,exist_ok= True)\n",
    "os.makedirs(processed_dir,exist_ok= True)\n",
    "os.makedirs(results_dir,exist_ok= True)\n",
    "os.makedirs(data_dir,exist_ok= True)"
   ]
  },
  {
   "cell_type": "markdown",
   "id": "fd18d46c-f29b-4c25-aeb3-783d34c41e7b",
   "metadata": {},
   "source": [
    "## Read in the data\n",
    "We load the **Adult Income dataset** as a CSV file.\n",
    "\n",
    "Key considerations here are:\n",
    "\n",
    "- We treat `?` as missing values (`na_values = '?'`).\n",
    "- We use `skipinitialspace = True` to remove extra spaces after delimeters which is common in text-based datasets.\n",
    "\n",
    "After loading, we inspect the first few rows.\n",
    "\n"
   ]
  },
  {
   "cell_type": "code",
   "execution_count": 50,
   "id": "3d87205b-e5df-4f13-9804-48a73811598e",
   "metadata": {},
   "outputs": [
    {
     "data": {
      "text/html": [
       "<div>\n",
       "<style scoped>\n",
       "    .dataframe tbody tr th:only-of-type {\n",
       "        vertical-align: middle;\n",
       "    }\n",
       "\n",
       "    .dataframe tbody tr th {\n",
       "        vertical-align: top;\n",
       "    }\n",
       "\n",
       "    .dataframe thead th {\n",
       "        text-align: right;\n",
       "    }\n",
       "</style>\n",
       "<table border=\"1\" class=\"dataframe\">\n",
       "  <thead>\n",
       "    <tr style=\"text-align: right;\">\n",
       "      <th></th>\n",
       "      <th>age</th>\n",
       "      <th>workclass</th>\n",
       "      <th>fnlwgt</th>\n",
       "      <th>education_num</th>\n",
       "      <th>marital_status</th>\n",
       "      <th>relationship</th>\n",
       "      <th>race</th>\n",
       "      <th>sex</th>\n",
       "      <th>capital_gain</th>\n",
       "      <th>capital_loss</th>\n",
       "      <th>hours_per_week</th>\n",
       "      <th>income</th>\n",
       "      <th>education_level</th>\n",
       "      <th>occupation_grouped</th>\n",
       "      <th>native_region</th>\n",
       "      <th>age_group</th>\n",
       "    </tr>\n",
       "  </thead>\n",
       "  <tbody>\n",
       "    <tr>\n",
       "      <th>0</th>\n",
       "      <td>39</td>\n",
       "      <td>government</td>\n",
       "      <td>77516</td>\n",
       "      <td>13</td>\n",
       "      <td>single</td>\n",
       "      <td>single</td>\n",
       "      <td>white</td>\n",
       "      <td>male</td>\n",
       "      <td>2174</td>\n",
       "      <td>0</td>\n",
       "      <td>40</td>\n",
       "      <td>&lt;=50k</td>\n",
       "      <td>tertiary</td>\n",
       "      <td>white collar</td>\n",
       "      <td>north america</td>\n",
       "      <td>36-45</td>\n",
       "    </tr>\n",
       "    <tr>\n",
       "      <th>1</th>\n",
       "      <td>50</td>\n",
       "      <td>self-employed</td>\n",
       "      <td>83311</td>\n",
       "      <td>13</td>\n",
       "      <td>married</td>\n",
       "      <td>male spouse</td>\n",
       "      <td>white</td>\n",
       "      <td>male</td>\n",
       "      <td>0</td>\n",
       "      <td>0</td>\n",
       "      <td>13</td>\n",
       "      <td>&lt;=50k</td>\n",
       "      <td>tertiary</td>\n",
       "      <td>white collar</td>\n",
       "      <td>north america</td>\n",
       "      <td>46-60</td>\n",
       "    </tr>\n",
       "    <tr>\n",
       "      <th>2</th>\n",
       "      <td>38</td>\n",
       "      <td>private</td>\n",
       "      <td>215646</td>\n",
       "      <td>9</td>\n",
       "      <td>divorced or separated</td>\n",
       "      <td>single</td>\n",
       "      <td>white</td>\n",
       "      <td>male</td>\n",
       "      <td>0</td>\n",
       "      <td>0</td>\n",
       "      <td>40</td>\n",
       "      <td>&lt;=50k</td>\n",
       "      <td>highschool graduate</td>\n",
       "      <td>blue collar</td>\n",
       "      <td>north america</td>\n",
       "      <td>36-45</td>\n",
       "    </tr>\n",
       "    <tr>\n",
       "      <th>3</th>\n",
       "      <td>53</td>\n",
       "      <td>private</td>\n",
       "      <td>234721</td>\n",
       "      <td>7</td>\n",
       "      <td>married</td>\n",
       "      <td>male spouse</td>\n",
       "      <td>black</td>\n",
       "      <td>male</td>\n",
       "      <td>0</td>\n",
       "      <td>0</td>\n",
       "      <td>40</td>\n",
       "      <td>&lt;=50k</td>\n",
       "      <td>secondary</td>\n",
       "      <td>blue collar</td>\n",
       "      <td>north america</td>\n",
       "      <td>46-60</td>\n",
       "    </tr>\n",
       "    <tr>\n",
       "      <th>4</th>\n",
       "      <td>28</td>\n",
       "      <td>private</td>\n",
       "      <td>338409</td>\n",
       "      <td>13</td>\n",
       "      <td>married</td>\n",
       "      <td>female spouse</td>\n",
       "      <td>black</td>\n",
       "      <td>female</td>\n",
       "      <td>0</td>\n",
       "      <td>0</td>\n",
       "      <td>40</td>\n",
       "      <td>&lt;=50k</td>\n",
       "      <td>tertiary</td>\n",
       "      <td>white collar</td>\n",
       "      <td>central america</td>\n",
       "      <td>26-35</td>\n",
       "    </tr>\n",
       "    <tr>\n",
       "      <th>5</th>\n",
       "      <td>37</td>\n",
       "      <td>private</td>\n",
       "      <td>284582</td>\n",
       "      <td>14</td>\n",
       "      <td>married</td>\n",
       "      <td>female spouse</td>\n",
       "      <td>white</td>\n",
       "      <td>female</td>\n",
       "      <td>0</td>\n",
       "      <td>0</td>\n",
       "      <td>40</td>\n",
       "      <td>&lt;=50k</td>\n",
       "      <td>tertiary</td>\n",
       "      <td>white collar</td>\n",
       "      <td>north america</td>\n",
       "      <td>36-45</td>\n",
       "    </tr>\n",
       "    <tr>\n",
       "      <th>6</th>\n",
       "      <td>49</td>\n",
       "      <td>private</td>\n",
       "      <td>160187</td>\n",
       "      <td>5</td>\n",
       "      <td>divorced or separated</td>\n",
       "      <td>single</td>\n",
       "      <td>black</td>\n",
       "      <td>female</td>\n",
       "      <td>0</td>\n",
       "      <td>0</td>\n",
       "      <td>16</td>\n",
       "      <td>&lt;=50k</td>\n",
       "      <td>secondary</td>\n",
       "      <td>service</td>\n",
       "      <td>central america</td>\n",
       "      <td>46-60</td>\n",
       "    </tr>\n",
       "    <tr>\n",
       "      <th>7</th>\n",
       "      <td>52</td>\n",
       "      <td>self-employed</td>\n",
       "      <td>209642</td>\n",
       "      <td>9</td>\n",
       "      <td>married</td>\n",
       "      <td>male spouse</td>\n",
       "      <td>white</td>\n",
       "      <td>male</td>\n",
       "      <td>0</td>\n",
       "      <td>0</td>\n",
       "      <td>45</td>\n",
       "      <td>&gt;50k</td>\n",
       "      <td>highschool graduate</td>\n",
       "      <td>white collar</td>\n",
       "      <td>north america</td>\n",
       "      <td>46-60</td>\n",
       "    </tr>\n",
       "    <tr>\n",
       "      <th>8</th>\n",
       "      <td>31</td>\n",
       "      <td>private</td>\n",
       "      <td>45781</td>\n",
       "      <td>14</td>\n",
       "      <td>single</td>\n",
       "      <td>single</td>\n",
       "      <td>white</td>\n",
       "      <td>female</td>\n",
       "      <td>14084</td>\n",
       "      <td>0</td>\n",
       "      <td>50</td>\n",
       "      <td>&gt;50k</td>\n",
       "      <td>tertiary</td>\n",
       "      <td>white collar</td>\n",
       "      <td>north america</td>\n",
       "      <td>26-35</td>\n",
       "    </tr>\n",
       "    <tr>\n",
       "      <th>9</th>\n",
       "      <td>42</td>\n",
       "      <td>private</td>\n",
       "      <td>159449</td>\n",
       "      <td>13</td>\n",
       "      <td>married</td>\n",
       "      <td>male spouse</td>\n",
       "      <td>white</td>\n",
       "      <td>male</td>\n",
       "      <td>5178</td>\n",
       "      <td>0</td>\n",
       "      <td>40</td>\n",
       "      <td>&gt;50k</td>\n",
       "      <td>tertiary</td>\n",
       "      <td>white collar</td>\n",
       "      <td>north america</td>\n",
       "      <td>36-45</td>\n",
       "    </tr>\n",
       "  </tbody>\n",
       "</table>\n",
       "</div>"
      ],
      "text/plain": [
       "   age      workclass  fnlwgt  education_num         marital_status  \\\n",
       "0   39     government   77516             13                 single   \n",
       "1   50  self-employed   83311             13                married   \n",
       "2   38        private  215646              9  divorced or separated   \n",
       "3   53        private  234721              7                married   \n",
       "4   28        private  338409             13                married   \n",
       "5   37        private  284582             14                married   \n",
       "6   49        private  160187              5  divorced or separated   \n",
       "7   52  self-employed  209642              9                married   \n",
       "8   31        private   45781             14                 single   \n",
       "9   42        private  159449             13                married   \n",
       "\n",
       "    relationship   race     sex  capital_gain  capital_loss  hours_per_week  \\\n",
       "0         single  white    male          2174             0              40   \n",
       "1    male spouse  white    male             0             0              13   \n",
       "2         single  white    male             0             0              40   \n",
       "3    male spouse  black    male             0             0              40   \n",
       "4  female spouse  black  female             0             0              40   \n",
       "5  female spouse  white  female             0             0              40   \n",
       "6         single  black  female             0             0              16   \n",
       "7    male spouse  white    male             0             0              45   \n",
       "8         single  white  female         14084             0              50   \n",
       "9    male spouse  white    male          5178             0              40   \n",
       "\n",
       "  income      education_level occupation_grouped    native_region age_group  \n",
       "0  <=50k             tertiary       white collar    north america     36-45  \n",
       "1  <=50k             tertiary       white collar    north america     46-60  \n",
       "2  <=50k  highschool graduate        blue collar    north america     36-45  \n",
       "3  <=50k            secondary        blue collar    north america     46-60  \n",
       "4  <=50k             tertiary       white collar  central america     26-35  \n",
       "5  <=50k             tertiary       white collar    north america     36-45  \n",
       "6  <=50k            secondary            service  central america     46-60  \n",
       "7   >50k  highschool graduate       white collar    north america     46-60  \n",
       "8   >50k             tertiary       white collar    north america     26-35  \n",
       "9   >50k             tertiary       white collar    north america     36-45  "
      ]
     },
     "execution_count": 50,
     "metadata": {},
     "output_type": "execute_result"
    }
   ],
   "source": [
    "adult_data_filename = os.path.join(processed_dir, 'adult_cleaned.csv')\n",
    "adult_df = pd.read_csv(adult_data_filename)\n",
    "adult_df.head(10)"
   ]
  },
  {
   "cell_type": "markdown",
   "id": "6729b5ca-e5cc-45a6-b467-ff3f87ea5e8a",
   "metadata": {},
   "source": [
    "## check the shape of the dataset and datatypes"
   ]
  },
  {
   "cell_type": "code",
   "execution_count": 53,
   "id": "b7b3ac6b-e95c-4a6d-98da-5f2ba87414dc",
   "metadata": {},
   "outputs": [
    {
     "name": "stdout",
     "output_type": "stream",
     "text": [
      "<class 'pandas.core.frame.DataFrame'>\n",
      "RangeIndex: 32514 entries, 0 to 32513\n",
      "Data columns (total 16 columns):\n",
      " #   Column              Non-Null Count  Dtype \n",
      "---  ------              --------------  ----- \n",
      " 0   age                 32514 non-null  int64 \n",
      " 1   workclass           32514 non-null  object\n",
      " 2   fnlwgt              32514 non-null  int64 \n",
      " 3   education_num       32514 non-null  int64 \n",
      " 4   marital_status      32514 non-null  object\n",
      " 5   relationship        32514 non-null  object\n",
      " 6   race                32514 non-null  object\n",
      " 7   sex                 32514 non-null  object\n",
      " 8   capital_gain        32514 non-null  int64 \n",
      " 9   capital_loss        32514 non-null  int64 \n",
      " 10  hours_per_week      32514 non-null  int64 \n",
      " 11  income              32514 non-null  object\n",
      " 12  education_level     32514 non-null  object\n",
      " 13  occupation_grouped  32514 non-null  object\n",
      " 14  native_region       32514 non-null  object\n",
      " 15  age_group           32514 non-null  object\n",
      "dtypes: int64(6), object(10)\n",
      "memory usage: 4.0+ MB\n"
     ]
    }
   ],
   "source": [
    "adult_df.info()"
   ]
  },
  {
   "cell_type": "markdown",
   "id": "9b55a4c8-ef61-4cee-836c-cb242084a2e8",
   "metadata": {},
   "source": [
    "## summary statistics\n",
    "### numerical variables"
   ]
  },
  {
   "cell_type": "code",
   "execution_count": null,
   "id": "34f8f391-119b-4c4f-9b40-b1df2b42b4d6",
   "metadata": {},
   "outputs": [],
   "source": [
    "adult_df.describe()"
   ]
  },
  {
   "cell_type": "markdown",
   "id": "2edaed03-725f-4900-bf4b-13811747afc1",
   "metadata": {},
   "source": [
    "## categorical variables"
   ]
  },
  {
   "cell_type": "code",
   "execution_count": null,
   "id": "96f88f57-6060-49d4-b226-f5f6cd656206",
   "metadata": {
    "jupyter": {
     "source_hidden": true
    }
   },
   "outputs": [],
   "source": [
    "adult_df.describe(include='object')"
   ]
  },
  {
   "cell_type": "code",
   "execution_count": null,
   "id": "06213120-0900-4f7d-9412-3f8513d6d7a6",
   "metadata": {},
   "outputs": [],
   "source": [
    "adult_df['workclass'].value_counts()"
   ]
  },
  {
   "cell_type": "code",
   "execution_count": null,
   "id": "80759e86-2545-4126-bcee-f97198e50714",
   "metadata": {},
   "outputs": [],
   "source": [
    "adult_df['workclass'].value_counts(normalize=True)"
   ]
  },
  {
   "cell_type": "code",
   "execution_count": null,
   "id": "537cdf07-7e29-4df4-b3ff-e5c662adab24",
   "metadata": {},
   "outputs": [],
   "source": [
    "adult_df['marital_status'].value_counts(normalize=True)"
   ]
  },
  {
   "cell_type": "code",
   "execution_count": null,
   "id": "a5ed3392-6930-40a3-9e06-eb863daa5f9a",
   "metadata": {},
   "outputs": [],
   "source": [
    "adult_df['relationship'].value_counts(normalize=True)"
   ]
  },
  {
   "cell_type": "code",
   "execution_count": null,
   "id": "f5f22304-d196-4188-847c-5c9f8f2b4b4c",
   "metadata": {},
   "outputs": [],
   "source": [
    "adult_df['race'].value_counts(normalize=True)"
   ]
  },
  {
   "cell_type": "markdown",
   "id": "3ad1617b-4107-4264-9b19-70581a55eaae",
   "metadata": {},
   "source": [
    "## income distribution"
   ]
  },
  {
   "cell_type": "code",
   "execution_count": null,
   "id": "6f19d3b6-a559-4ea9-bf06-4302449f9ece",
   "metadata": {},
   "outputs": [],
   "source": [
    "adult_df_income = adult_df.groupby('income').size().reset_index(name='total')\n",
    "adult_df_income"
   ]
  },
  {
   "cell_type": "code",
   "execution_count": null,
   "id": "ece6a57f-75c4-4b9e-92b2-cf30d915e2fd",
   "metadata": {},
   "outputs": [],
   "source": [
    "fig = px.pie(adult_df_income, names='income', values='total', title='Overall Income Distribution', color_discrete_sequence=['#008080', '#808080'])\n",
    "fig.show()"
   ]
  },
  {
   "cell_type": "markdown",
   "id": "37cb740b-39f8-4191-9c78-412b9f7729f1",
   "metadata": {},
   "source": [
    "## 1.4.1 income by age group"
   ]
  },
  {
   "cell_type": "code",
   "execution_count": null,
   "id": "b8ab058b-c064-4db8-8be3-d39f06f03b51",
   "metadata": {},
   "outputs": [],
   "source": [
    "adult_df_age = adult_df.groupby(['age_group','income']).size().reset_index(name='total_by_age')\n",
    "#sort_values(by='total_by_age', ascending=False)\n",
    "adult_df_age"
   ]
  },
  {
   "cell_type": "code",
   "execution_count": null,
   "id": "1980d02f-9703-4d27-ac7d-3ff229ac8173",
   "metadata": {},
   "outputs": [],
   "source": [
    "adult_df_income_age = adult_df.groupby(['age_group', 'income']).size().reset_index(name='total_by_age').sort_values(['age_group', 'income'])\n",
    "adult_df_income_age"
   ]
  },
  {
   "cell_type": "code",
   "execution_count": null,
   "id": "71dbc08f-17f3-4e19-b26f-602824a0b699",
   "metadata": {},
   "outputs": [],
   "source": [
    "total_per_group = adult_df_income_age.groupby('age_group').size()\n",
    "total_per_group"
   ]
  },
  {
   "cell_type": "code",
   "execution_count": null,
   "id": "926cf657-d8f9-44cb-9dab-3f88d726b46e",
   "metadata": {},
   "outputs": [],
   "source": [
    "total_per_group = adult_df_income_age.groupby('age_group')['total_by_age'].transform('sum')\n",
    "total_per_group"
   ]
  },
  {
   "cell_type": "code",
   "execution_count": null,
   "id": "9ebd7f08-5105-4522-9994-b66c9ee01e48",
   "metadata": {},
   "outputs": [],
   "source": [
    "total_per_group = adult_df_income_age.groupby('age_group')['total_by_age'].transform('sum')\n",
    "adult_df_income_age['percentage'] = (adult_df_income_age['total_by_age']/total_per_group) * 100\n",
    "adult_df_income_age"
   ]
  },
  {
   "cell_type": "code",
   "execution_count": null,
   "id": "a903e210-5f61-4828-a81c-97f5e77faaa3",
   "metadata": {},
   "outputs": [],
   "source": [
    "fig = px.bar(\n",
    "    adult_df_income_age,\n",
    "    x = 'age_group',\n",
    "    y = 'percentage',\n",
    "    color = 'income',\n",
    "    title='Incoome Distribution by Age Group(%)',\n",
    "    barmode='group',\n",
    "    color_discrete_sequence=px.colors.sequential.RdBu,\n",
    "    text='percentage'\n",
    ")\n",
    "fig.update_traces(texttemplate = '%{text:.2f}%')\n",
    "fig.show()"
   ]
  },
  {
   "cell_type": "code",
   "execution_count": null,
   "id": "cfb4b475-6502-4831-a9cb-c8a5a8ed4c22",
   "metadata": {},
   "outputs": [],
   "source": [
    "themes = [\"plotly\", \"plotly_white\", \"plotly_dark\", \"ggplot2\", \"seaborn\", \"simple_white\", \"presentation\", \"xgridoff\", \"ygridoff\", \"gridon\", \"none\"]\n",
    "for theme in themes:\n",
    "    fig.update_layout(template=theme)\n",
    "    fig.show()"
   ]
  },
  {
   "cell_type": "code",
   "execution_count": null,
   "id": "7c131aba-f006-4ac2-8c4c-78efb2897493",
   "metadata": {},
   "outputs": [],
   "source": [
    "#pip install -U kaleido"
   ]
  },
  {
   "cell_type": "code",
   "execution_count": null,
   "id": "2f68baed-c2c3-4194-bf3c-97700430f20b",
   "metadata": {},
   "outputs": [],
   "source": [
    "#pip install -U plotly"
   ]
  },
  {
   "cell_type": "code",
   "execution_count": null,
   "id": "f0ed2530-e3f8-4858-9862-411de9f283fd",
   "metadata": {},
   "outputs": [],
   "source": [
    "adult_df_income_native_region = adult_df.groupby(['native_region', 'income']).size().reset_index(name='total_income_distr')\n",
    "adult_df_income_native_region"
   ]
  },
  {
   "cell_type": "code",
   "execution_count": null,
   "id": "a3213b95-d0c5-42d7-a6c0-12e5b427bd64",
   "metadata": {},
   "outputs": [],
   "source": [
    "total_per_region = adult_df_income_native_region.groupby('native_region')['total_income_distr'].transform('sum')\n",
    "adult_df_income_native_region['percentage'] = (adult_df_income_native_region['total_income_distr']/total_per_region) * 100\n",
    "adult_df_income_native_region"
   ]
  },
  {
   "cell_type": "code",
   "execution_count": null,
   "id": "240d650b-945d-4c82-ad9c-69c63615d0c7",
   "metadata": {},
   "outputs": [],
   "source": [
    "fig = px.bar(\n",
    "    adult_df_income_native_region,\n",
    "    x = 'native_region',\n",
    "    y = 'percentage',\n",
    "    color = 'income',\n",
    "    title='Income Distribution across Native Region ',\n",
    "    barmode='group',\n",
    "    color_discrete_sequence=px.colors.sequential.RdBu,\n",
    "    text='percentage'\n",
    ")\n",
    "fig.update_traces(texttemplate = '%{text:.2f}%')\n",
    "fig.show()\n",
    "fig.write_image(os.path.join(results_dir, 'income_distribution_by_nativeRegion_bar_plot.jpg'))\n",
    "fig.write_image(os.path.join(results_dir, 'income_distribution_by_nativeRegion_bar_plot.png'))\n",
    "fig.write_html(os.path.join(results_dir, 'income_distribution_by_nativeRegion_bar_plot.html'))"
   ]
  },
  {
   "cell_type": "code",
   "execution_count": null,
   "id": "9478dde7-3250-4d55-8522-66b1965bb1d5",
   "metadata": {},
   "outputs": [],
   "source": [
    "adult_df_income_race = adult_df.groupby(['race', 'income']).size().reset_index(name='total_income_race')\n",
    "adult_df_income_race"
   ]
  },
  {
   "cell_type": "code",
   "execution_count": null,
   "id": "93f65f30-f85d-4a0d-a962-e1d58ac8428b",
   "metadata": {},
   "outputs": [],
   "source": [
    "total_per_race= adult_df_income_race.groupby('race')['total_income_race'].transform('sum')\n",
    "adult_df_income_race['percentage'] = (adult_df_income_race['total_income_race']/total_per_race) * 100\n",
    "adult_df_income_race"
   ]
  },
  {
   "cell_type": "code",
   "execution_count": null,
   "id": "737c53df-774b-4fd3-be7a-45e5acb0b8be",
   "metadata": {},
   "outputs": [],
   "source": [
    "fig = px.bar(\n",
    "    adult_df_income_race,\n",
    "    x = 'race',\n",
    "    y = 'percentage',\n",
    "    color = 'income',\n",
    "    title='Income Distribution Per Race ',\n",
    "    barmode='group',\n",
    "    color_discrete_sequence=px.colors.sequential.RdBu,\n",
    "    text='percentage'\n",
    ")\n",
    "fig.update_traces(texttemplate = '%{text:.2f}%')\n",
    "fig.show()\n",
    "fig.write_image(os.path.join(results_dir, 'income_distribution_by_race_bar_plot.jpg'))\n",
    "fig.write_image(os.path.join(results_dir, 'income_distribution_by_race_bar_plot.png'))\n",
    "fig.write_html(os.path.join(results_dir, 'income_distribution_by_race_bar_plot.html'))"
   ]
  },
  {
   "cell_type": "code",
   "execution_count": null,
   "id": "af135b87-75d4-4c1b-82e6-4f84934dfd8d",
   "metadata": {},
   "outputs": [],
   "source": [
    "adult_df_income_edu_occ = (adult_df.groupby(['education_level', 'occupation_grouped', 'income'])\n",
    "                          .size().reset_index(name='total').sort_values('total', ascending = False))\n",
    "adult_df_income_edu_occ"
   ]
  },
  {
   "cell_type": "code",
   "execution_count": null,
   "id": "0e5f759c-936d-494d-9581-44aff88469c1",
   "metadata": {},
   "outputs": [],
   "source": [
    "adult_df_income_edu_occ['edu_occ'] = (adult_df_income_edu_occ['education_level'] + \" | \"\n",
    "                                     + adult_df_income_edu_occ['occupation_grouped'])\n",
    "adult_df_income_edu_occ"
   ]
  },
  {
   "cell_type": "code",
   "execution_count": null,
   "id": "b760b9f6-6787-4449-9451-b163eab6d7bf",
   "metadata": {},
   "outputs": [],
   "source": [
    "num = 15\n",
    "adult_df_combos = adult_df_income_edu_occ.head(num)\n",
    "\n",
    "fig = px.bar(\n",
    "    adult_df_combos,\n",
    "    x='total',\n",
    "    y='edu_occ',\n",
    "    color='income',\n",
    "    orientation='h',\n",
    "    title=f'Top {num} Education and Occupation Groups Combinations by Income Group',\n",
    "    height=500,\n",
    "    width=1100,\n",
    "    color_discrete_sequence=px.colors.sequential.RdBu,\n",
    "    text='total'\n",
    ")\n",
    "\n",
    "fig.update_layout(\n",
    "    template=\"presentation\",\n",
    "    xaxis_title='Number of Individuals',\n",
    "    yaxis_title='Education | Occupation Group',\n",
    "    legend_title=dict(text='Income Level'),\n",
    "    margin=dict(l=450, r=50, t=50, b=50)\n",
    ")\n",
    "\n",
    "#  method here\n",
    "fig.update_traces(textposition='inside')\n",
    "\n",
    "fig.show()\n",
    "fig.write_image(os.path.join(results_dir, 'income_distribution_by_Education and Occupation Groups Combinations by Income Group_bar_plot.jpg'))\n",
    "fig.write_image(os.path.join(results_dir, 'income_distribution_by_Education and Occupation Groups Combinations by Income Group_bar_plot.png'))\n",
    "fig.write_html(os.path.join(results_dir, 'income_distribution_by_Education and Occupation Groups Combinations by Income Group_bar_plot.html'))\n",
    "\n"
   ]
  },
  {
   "cell_type": "code",
   "execution_count": null,
   "id": "cf5a2235-5c8e-4f36-9e2a-54d9885509d2",
   "metadata": {},
   "outputs": [],
   "source": []
  }
 ],
 "metadata": {
  "kernelspec": {
   "display_name": "Python [conda env:base] *",
   "language": "python",
   "name": "conda-base-py"
  },
  "language_info": {
   "codemirror_mode": {
    "name": "ipython",
    "version": 3
   },
   "file_extension": ".py",
   "mimetype": "text/x-python",
   "name": "python",
   "nbconvert_exporter": "python",
   "pygments_lexer": "ipython3",
   "version": "3.12.7"
  }
 },
 "nbformat": 4,
 "nbformat_minor": 5
}
